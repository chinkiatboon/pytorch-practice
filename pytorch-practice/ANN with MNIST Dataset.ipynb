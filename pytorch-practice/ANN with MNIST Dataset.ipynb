{
 "cells": [
  {
   "cell_type": "code",
   "execution_count": 1,
   "metadata": {},
   "outputs": [],
   "source": [
    "import torch\n",
    "import torch.nn as nn\n",
    "import torch.nn.functional as F\n",
    "import pandas as pd\n"
   ]
  },
  {
   "cell_type": "code",
   "execution_count": 2,
   "metadata": {},
   "outputs": [
    {
     "data": {
      "text/html": [
       "<div>\n",
       "<style scoped>\n",
       "    .dataframe tbody tr th:only-of-type {\n",
       "        vertical-align: middle;\n",
       "    }\n",
       "\n",
       "    .dataframe tbody tr th {\n",
       "        vertical-align: top;\n",
       "    }\n",
       "\n",
       "    .dataframe thead th {\n",
       "        text-align: right;\n",
       "    }\n",
       "</style>\n",
       "<table border=\"1\" class=\"dataframe\">\n",
       "  <thead>\n",
       "    <tr style=\"text-align: right;\">\n",
       "      <th></th>\n",
       "      <th>sepal length (cm)</th>\n",
       "      <th>sepal width (cm)</th>\n",
       "      <th>petal length (cm)</th>\n",
       "      <th>petal width (cm)</th>\n",
       "      <th>target</th>\n",
       "    </tr>\n",
       "  </thead>\n",
       "  <tbody>\n",
       "    <tr>\n",
       "      <th>0</th>\n",
       "      <td>5.6</td>\n",
       "      <td>3.0</td>\n",
       "      <td>4.5</td>\n",
       "      <td>1.5</td>\n",
       "      <td>1.0</td>\n",
       "    </tr>\n",
       "    <tr>\n",
       "      <th>1</th>\n",
       "      <td>5.7</td>\n",
       "      <td>2.9</td>\n",
       "      <td>4.2</td>\n",
       "      <td>1.3</td>\n",
       "      <td>1.0</td>\n",
       "    </tr>\n",
       "    <tr>\n",
       "      <th>2</th>\n",
       "      <td>7.1</td>\n",
       "      <td>3.0</td>\n",
       "      <td>5.9</td>\n",
       "      <td>2.1</td>\n",
       "      <td>2.0</td>\n",
       "    </tr>\n",
       "    <tr>\n",
       "      <th>3</th>\n",
       "      <td>5.5</td>\n",
       "      <td>2.4</td>\n",
       "      <td>3.8</td>\n",
       "      <td>1.1</td>\n",
       "      <td>1.0</td>\n",
       "    </tr>\n",
       "    <tr>\n",
       "      <th>4</th>\n",
       "      <td>6.9</td>\n",
       "      <td>3.1</td>\n",
       "      <td>5.1</td>\n",
       "      <td>2.3</td>\n",
       "      <td>2.0</td>\n",
       "    </tr>\n",
       "  </tbody>\n",
       "</table>\n",
       "</div>"
      ],
      "text/plain": [
       "   sepal length (cm)  sepal width (cm)  petal length (cm)  petal width (cm)  \\\n",
       "0                5.6               3.0                4.5               1.5   \n",
       "1                5.7               2.9                4.2               1.3   \n",
       "2                7.1               3.0                5.9               2.1   \n",
       "3                5.5               2.4                3.8               1.1   \n",
       "4                6.9               3.1                5.1               2.3   \n",
       "\n",
       "   target  \n",
       "0     1.0  \n",
       "1     1.0  \n",
       "2     2.0  \n",
       "3     1.0  \n",
       "4     2.0  "
      ]
     },
     "execution_count": 2,
     "metadata": {},
     "output_type": "execute_result"
    }
   ],
   "source": [
    "mnist = pd.read_csv('Data/iris.csv')\n",
    "mnist = mnist.sample(frac=1).reset_index().drop('index',axis=1)\n",
    "mnist.head()"
   ]
  },
  {
   "cell_type": "markdown",
   "metadata": {},
   "source": [
    "## Checking number of labels for pytorch model "
   ]
  },
  {
   "cell_type": "code",
   "execution_count": 3,
   "metadata": {},
   "outputs": [
    {
     "data": {
      "text/plain": [
       "array([1., 2., 0.])"
      ]
     },
     "execution_count": 3,
     "metadata": {},
     "output_type": "execute_result"
    }
   ],
   "source": [
    "mnist['target'].unique()"
   ]
  },
  {
   "cell_type": "markdown",
   "metadata": {},
   "source": [
    "## Splitting data into train and test datasets"
   ]
  },
  {
   "cell_type": "code",
   "execution_count": 4,
   "metadata": {},
   "outputs": [
    {
     "name": "stdout",
     "output_type": "stream",
     "text": [
      "Shape of entire dataset: (150, 5)\n",
      "Shape of train set: (120, 5)\n",
      "Shape of test set: (30, 5)\n"
     ]
    }
   ],
   "source": [
    "train = mnist[:int(len(mnist)*0.8)]\n",
    "test = mnist[int(len(mnist)*0.8):]\n",
    "print(f\"Shape of entire dataset: {mnist.shape}\")\n",
    "print(f\"Shape of train set: {train.shape}\")\n",
    "print(f\"Shape of test set: {test.shape}\")"
   ]
  },
  {
   "cell_type": "code",
   "execution_count": 5,
   "metadata": {},
   "outputs": [],
   "source": [
    "train_x = train.drop('target',axis=1)\n",
    "train_y = train.loc[:,'target']\n",
    "\n",
    "train_x = torch.FloatTensor(train_x.values)\n",
    "train_y = torch.LongTensor(train_y.values)"
   ]
  },
  {
   "cell_type": "code",
   "execution_count": 6,
   "metadata": {},
   "outputs": [
    {
     "data": {
      "text/plain": [
       "tensor([[5.6000, 3.0000, 4.5000, 1.5000],\n",
       "        [5.7000, 2.9000, 4.2000, 1.3000],\n",
       "        [7.1000, 3.0000, 5.9000, 2.1000],\n",
       "        [5.5000, 2.4000, 3.8000, 1.1000],\n",
       "        [6.9000, 3.1000, 5.1000, 2.3000],\n",
       "        [4.8000, 3.4000, 1.9000, 0.2000],\n",
       "        [6.7000, 3.1000, 4.4000, 1.4000],\n",
       "        [6.3000, 3.3000, 4.7000, 1.6000],\n",
       "        [6.0000, 3.4000, 4.5000, 1.6000],\n",
       "        [6.7000, 3.3000, 5.7000, 2.1000]])"
      ]
     },
     "execution_count": 6,
     "metadata": {},
     "output_type": "execute_result"
    }
   ],
   "source": [
    "train_x[:10]"
   ]
  },
  {
   "cell_type": "code",
   "execution_count": 7,
   "metadata": {},
   "outputs": [
    {
     "data": {
      "text/plain": [
       "tensor([1, 1, 2, 1, 2, 0, 1, 1, 1, 2])"
      ]
     },
     "execution_count": 7,
     "metadata": {},
     "output_type": "execute_result"
    }
   ],
   "source": [
    "train_y[:10]"
   ]
  },
  {
   "cell_type": "markdown",
   "metadata": {},
   "source": [
    "## Pytorch model (ANN with 2 hidden layers)"
   ]
  },
  {
   "cell_type": "code",
   "execution_count": 8,
   "metadata": {},
   "outputs": [],
   "source": [
    "class Model(nn.Module):\n",
    "    \n",
    "    def __init__(self,h1,h2,in_features=4,out_features=3):\n",
    "        super().__init__()\n",
    "        self.fc1 = nn.Linear(in_features,h1)\n",
    "        self.fc2 = nn.Linear(h1,h2)\n",
    "        self.fc3 = nn.Linear(h2, out_features)\n",
    "        \n",
    "    def forward(self, x):\n",
    "        x = F.relu(self.fc1(x))\n",
    "        x = F.relu(self.fc2(x))\n",
    "        x = self.fc3(x)\n",
    "        \n",
    "        return x\n",
    "        "
   ]
  },
  {
   "cell_type": "markdown",
   "metadata": {},
   "source": [
    "## Training model"
   ]
  },
  {
   "cell_type": "code",
   "execution_count": 9,
   "metadata": {},
   "outputs": [
    {
     "name": "stdout",
     "output_type": "stream",
     "text": [
      "Epoch 1: Loss is 1.116830587387085\n",
      "Epoch 21: Loss is 0.8148367404937744\n",
      "Epoch 41: Loss is 0.44639864563941956\n",
      "Epoch 61: Loss is 0.3452616333961487\n",
      "Epoch 81: Loss is 0.21289250254631042\n",
      "Epoch 101: Loss is 0.11195080727338791\n",
      "Epoch 121: Loss is 0.07354351133108139\n",
      "Epoch 141: Loss is 0.06029275804758072\n",
      "Epoch 161: Loss is 0.054666463285684586\n",
      "Epoch 181: Loss is 0.051736440509557724\n"
     ]
    }
   ],
   "source": [
    "epochs = 200\n",
    "model = Model(5,6)\n",
    "criterion = nn.CrossEntropyLoss()\n",
    "optimizer = torch.optim.Adam(model.parameters(),lr=0.01)\n",
    "\n",
    "for i in range(epochs):\n",
    "    pred = model.forward(train_x)\n",
    "    loss = criterion(pred,train_y)\n",
    "    \n",
    "    if i%20 == 0:\n",
    "        print(f\"Epoch {i+1}: Loss is {loss}\")\n",
    "        \n",
    "    optimizer.zero_grad()     # Resets accumulated gradient\n",
    "    loss.backward()           \n",
    "    optimizer.step()          # Backpropagation based on loss.backward() values"
   ]
  },
  {
   "cell_type": "code",
   "execution_count": 10,
   "metadata": {},
   "outputs": [
    {
     "data": {
      "text/plain": [
       "tensor([[ -7.8597,   1.6395,  -1.9673],\n",
       "        [ -6.1331,   2.0111,  -5.1127],\n",
       "        [-14.3618,   0.5309,   7.6771],\n",
       "        [ -5.1569,   1.7782,  -5.9921],\n",
       "        [-12.4122,   0.8735,   4.7279],\n",
       "        [  3.9814,  -1.9896, -21.0908],\n",
       "        [ -6.4391,   2.1065,  -6.0916],\n",
       "        [ -7.9831,   1.8296,  -2.9762],\n",
       "        [ -7.3206,   1.9206,  -3.8348],\n",
       "        [-13.4213,   0.7039,   6.2111],\n",
       "        [  4.7205,  -2.4526, -22.3322],\n",
       "        [  4.3956,  -2.1321, -21.4612],\n",
       "        [-11.9522,   0.9468,   4.0748],\n",
       "        [-13.4375,   0.5702,   6.9741],\n",
       "        [-12.6315,   0.4624,   7.1627],\n",
       "        [  4.6786,  -2.3873, -22.3185],\n",
       "        [  3.8096,  -1.7560, -18.9968],\n",
       "        [ -7.9365,   1.7351,  -2.4667],\n",
       "        [ -9.6793,   1.3241,   0.7607],\n",
       "        [ -4.6257,   1.5164,  -7.3430],\n",
       "        [-10.1170,   0.8528,   3.6495],\n",
       "        [  4.2155,  -2.0873, -21.4905],\n",
       "        [-15.7182,   0.3413,   9.4540],\n",
       "        [ -8.0018,   1.5636,  -1.4646],\n",
       "        [  5.5633,  -2.9616, -25.9871],\n",
       "        [ -5.2714,   1.7661,  -6.4597],\n",
       "        [ -4.5485,   1.5262,  -7.0105],\n",
       "        [ -6.9402,   2.1873,  -5.7674],\n",
       "        [-12.7229,   0.7164,   5.7765],\n",
       "        [ -7.9642,   1.8684,  -3.2051],\n",
       "        [-14.8811,   0.2650,   9.4488],\n",
       "        [-10.6185,   1.1038,   2.4938],\n",
       "        [ -8.8299,   1.3877,  -0.0405],\n",
       "        [-10.6457,   1.0661,   2.7205],\n",
       "        [-11.1915,   1.1134,   2.7381],\n",
       "        [-13.2940,   0.5987,   6.7385],\n",
       "        [  4.8266,  -2.4965, -22.8771],\n",
       "        [-12.1183,   0.6584,   5.7890],\n",
       "        [  4.9958,  -2.5822, -23.6804],\n",
       "        [ -6.9421,   2.0632,  -4.8368],\n",
       "        [  4.5744,  -2.3277, -21.8529],\n",
       "        [-11.8283,   0.6768,   5.5344],\n",
       "        [  4.8728,  -2.5087, -23.1434],\n",
       "        [ -7.3468,   1.7793,  -3.0234],\n",
       "        [  5.0514,  -2.6669, -23.7064],\n",
       "        [-15.5234,   0.3926,   9.0629],\n",
       "        [-13.8380,   0.4835,   7.6718],\n",
       "        [  4.6094,  -2.3035, -22.1951],\n",
       "        [ -5.6309,   1.8744,  -6.3074],\n",
       "        [ -3.0162,   0.9555,  -8.8657],\n",
       "        [-14.1611,   0.1654,   9.6361],\n",
       "        [-11.7616,   0.8008,   4.7994],\n",
       "        [  4.7998,  -2.4564, -22.8612],\n",
       "        [  4.6611,  -2.3994, -22.1474],\n",
       "        [-14.4659,   0.5888,   7.4045],\n",
       "        [  4.2611,  -2.1013, -20.6498],\n",
       "        [ -6.5133,   1.7654,  -3.3792],\n",
       "        [ -7.6045,   1.9722,  -3.9782],\n",
       "        [  5.0420,  -2.6147, -23.8616],\n",
       "        [  5.7224,  -3.1476, -26.2997],\n",
       "        [ -3.7883,   1.2887,  -7.4262],\n",
       "        [-14.3118,   0.6012,   7.2545],\n",
       "        [  4.3978,  -2.1740, -21.2842],\n",
       "        [  3.5268,  -1.8029, -20.3475],\n",
       "        [ -5.4030,   1.8352,  -6.0781],\n",
       "        [ -9.7176,   1.4736,  -0.0633],\n",
       "        [  5.2592,  -2.7874, -24.6287],\n",
       "        [  4.5876,  -2.3687, -21.7714],\n",
       "        [ -4.7024,   1.6878,  -5.6702],\n",
       "        [-13.1730,   0.7069,   6.0646],\n",
       "        [-10.7246,   0.9494,   3.4204],\n",
       "        [-11.7229,   1.1943,   2.5578],\n",
       "        [ -6.5950,   1.9708,  -4.4962],\n",
       "        [-16.6452,   0.1697,  10.9056],\n",
       "        [  5.5608,  -3.0394, -25.6437],\n",
       "        [  4.7230,  -2.3905, -23.3685],\n",
       "        [ -3.6727,   1.1317,  -8.8274],\n",
       "        [ -7.2241,   1.8963,  -3.7479],\n",
       "        [  4.3652,  -2.1407, -21.2004],\n",
       "        [-16.4601,   0.2135,  10.5619],\n",
       "        [  4.9901,  -2.6092, -23.5274],\n",
       "        [ -5.1480,   1.6989,  -6.8439],\n",
       "        [-15.1952,   0.2615,   9.6322],\n",
       "        [ -5.6672,   1.9355,  -5.7366],\n",
       "        [ -9.8145,   1.3506,   0.6818],\n",
       "        [-14.6003,   0.2521,   9.3756],\n",
       "        [  4.9633,  -2.5691, -23.5115],\n",
       "        [-14.3407,   0.4987,   7.8484],\n",
       "        [ -5.8698,   2.0023,  -5.5872],\n",
       "        [-15.1128,   0.3158,   9.2830],\n",
       "        [ -5.2656,   1.7994,  -6.0743],\n",
       "        [  5.2811,  -2.9425, -24.1279],\n",
       "        [  4.7735,  -2.3745, -23.0243],\n",
       "        [ -6.2021,   2.0584,  -5.9340],\n",
       "        [  4.5575,  -2.2981, -21.8608],\n",
       "        [  5.1574,  -2.7107, -24.2513],\n",
       "        [ -8.1634,   1.9032,  -3.2976],\n",
       "        [ -7.2508,   1.7788,  -3.0705],\n",
       "        [  5.2017,  -2.7387, -24.4383],\n",
       "        [-13.0794,   0.6652,   6.2516],\n",
       "        [ -6.7872,   2.1080,  -5.1703],\n",
       "        [ -9.6372,   1.3157,   0.7866],\n",
       "        [-12.9617,   0.9481,   4.5929],\n",
       "        [  4.7730,  -2.3960, -22.9305],\n",
       "        [  4.9551,  -2.6334, -23.1852],\n",
       "        [ -6.5531,   2.1200,  -5.6318],\n",
       "        [-11.6148,   0.9030,   4.1462],\n",
       "        [-14.1569,   0.3627,   8.5203],\n",
       "        [-15.7864,   0.5481,   8.3225],\n",
       "        [  4.6786,  -2.3873, -22.3185],\n",
       "        [  4.8441,  -2.4844, -23.0482],\n",
       "        [-11.0800,   0.9868,   3.3943],\n",
       "        [ -6.2592,   2.0741,  -5.5823],\n",
       "        [ -6.9481,   1.7660,  -3.1560],\n",
       "        [  4.6572,  -2.3079, -22.6451],\n",
       "        [ -6.1641,   1.8853,  -4.2379],\n",
       "        [ -6.0094,   2.0019,  -5.1970],\n",
       "        [  4.5764,  -2.3120, -21.9323],\n",
       "        [-10.2369,   1.2077,   1.7084],\n",
       "        [  5.0582,  -2.5563, -24.2174]], grad_fn=<AddmmBackward0>)"
      ]
     },
     "execution_count": 10,
     "metadata": {},
     "output_type": "execute_result"
    }
   ],
   "source": [
    "pred"
   ]
  },
  {
   "cell_type": "markdown",
   "metadata": {},
   "source": [
    "## Testing model"
   ]
  },
  {
   "cell_type": "code",
   "execution_count": 11,
   "metadata": {},
   "outputs": [],
   "source": [
    "test_x = test.drop('target',axis=1)\n",
    "test_y = test.loc[:,'target']\n",
    "\n",
    "test_x = torch.FloatTensor(test_x.values)\n",
    "test_y = torch.LongTensor(test_y.values)"
   ]
  },
  {
   "cell_type": "code",
   "execution_count": 12,
   "metadata": {},
   "outputs": [
    {
     "name": "stdout",
     "output_type": "stream",
     "text": [
      "S/N\t\tPred\t\tActual\n",
      "1\t\t2\t\t2\n",
      "2\t\t2\t\t2\n",
      "3\t\t0\t\t0\n",
      "4\t\t1\t\t1\n",
      "5\t\t0\t\t0\n",
      "6\t\t1\t\t1\n",
      "7\t\t0\t\t0\n",
      "8\t\t2\t\t2\n",
      "9\t\t1\t\t1\n",
      "10\t\t2\t\t2\n",
      "11\t\t0\t\t0\n",
      "12\t\t2\t\t2\n",
      "13\t\t2\t\t2\n",
      "14\t\t1\t\t1\n",
      "15\t\t0\t\t0\n",
      "16\t\t0\t\t0\n",
      "17\t\t1\t\t1\n",
      "18\t\t2\t\t2\n",
      "19\t\t2\t\t2\n",
      "20\t\t2\t\t2\n",
      "21\t\t0\t\t0\n",
      "22\t\t1\t\t1\n",
      "23\t\t0\t\t0\n",
      "24\t\t2\t\t2\n",
      "25\t\t2\t\t2\n",
      "26\t\t2\t\t2\n",
      "27\t\t0\t\t0\n",
      "28\t\t0\t\t0\n",
      "29\t\t1\t\t1\n",
      "30\t\t0\t\t0\n",
      "Number of correct values:30/30 (100.0%)\n"
     ]
    }
   ],
   "source": [
    "correct = 0\n",
    "with torch.no_grad():\n",
    "    pred = model.forward(test_x)\n",
    "    print(\"S/N\\t\\tPred\\t\\tActual\")\n",
    "    for i in range(len(pred)):\n",
    "        print(f\"{i+1}\\t\\t{torch.argmax(pred[i])}\\t\\t{test_y[i]}\")\n",
    "        if torch.argmax(pred[i]) == test_y[i]:\n",
    "            correct += 1\n",
    "    \n",
    "    print(f\"Number of correct values:{correct}/{len(pred)} ({correct*100/len(pred)}%)\")"
   ]
  }
 ],
 "metadata": {
  "kernelspec": {
   "display_name": "Python 3",
   "language": "python",
   "name": "python3"
  },
  "language_info": {
   "codemirror_mode": {
    "name": "ipython",
    "version": 3
   },
   "file_extension": ".py",
   "mimetype": "text/x-python",
   "name": "python",
   "nbconvert_exporter": "python",
   "pygments_lexer": "ipython3",
   "version": "3.7.3"
  }
 },
 "nbformat": 4,
 "nbformat_minor": 4
}
