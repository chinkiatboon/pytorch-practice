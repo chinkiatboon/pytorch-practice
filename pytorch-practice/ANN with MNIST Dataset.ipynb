{
 "cells": [
  {
   "cell_type": "code",
   "execution_count": 15,
   "metadata": {},
   "outputs": [],
   "source": [
    "import torch\n",
    "import torch.nn as nn\n",
    "import torch.nn.functional as F\n",
    "import pandas as pd\n"
   ]
  },
  {
   "cell_type": "code",
   "execution_count": 16,
   "metadata": {},
   "outputs": [
    {
     "data": {
      "text/html": [
       "<div>\n",
       "<style scoped>\n",
       "    .dataframe tbody tr th:only-of-type {\n",
       "        vertical-align: middle;\n",
       "    }\n",
       "\n",
       "    .dataframe tbody tr th {\n",
       "        vertical-align: top;\n",
       "    }\n",
       "\n",
       "    .dataframe thead th {\n",
       "        text-align: right;\n",
       "    }\n",
       "</style>\n",
       "<table border=\"1\" class=\"dataframe\">\n",
       "  <thead>\n",
       "    <tr style=\"text-align: right;\">\n",
       "      <th></th>\n",
       "      <th>sepal length (cm)</th>\n",
       "      <th>sepal width (cm)</th>\n",
       "      <th>petal length (cm)</th>\n",
       "      <th>petal width (cm)</th>\n",
       "      <th>target</th>\n",
       "    </tr>\n",
       "  </thead>\n",
       "  <tbody>\n",
       "    <tr>\n",
       "      <th>0</th>\n",
       "      <td>5.9</td>\n",
       "      <td>3.2</td>\n",
       "      <td>4.8</td>\n",
       "      <td>1.8</td>\n",
       "      <td>1.0</td>\n",
       "    </tr>\n",
       "    <tr>\n",
       "      <th>1</th>\n",
       "      <td>5.7</td>\n",
       "      <td>2.6</td>\n",
       "      <td>3.5</td>\n",
       "      <td>1.0</td>\n",
       "      <td>1.0</td>\n",
       "    </tr>\n",
       "    <tr>\n",
       "      <th>2</th>\n",
       "      <td>7.2</td>\n",
       "      <td>3.2</td>\n",
       "      <td>6.0</td>\n",
       "      <td>1.8</td>\n",
       "      <td>2.0</td>\n",
       "    </tr>\n",
       "    <tr>\n",
       "      <th>3</th>\n",
       "      <td>6.3</td>\n",
       "      <td>3.4</td>\n",
       "      <td>5.6</td>\n",
       "      <td>2.4</td>\n",
       "      <td>2.0</td>\n",
       "    </tr>\n",
       "    <tr>\n",
       "      <th>4</th>\n",
       "      <td>5.7</td>\n",
       "      <td>2.5</td>\n",
       "      <td>5.0</td>\n",
       "      <td>2.0</td>\n",
       "      <td>2.0</td>\n",
       "    </tr>\n",
       "  </tbody>\n",
       "</table>\n",
       "</div>"
      ],
      "text/plain": [
       "   sepal length (cm)  sepal width (cm)  petal length (cm)  petal width (cm)  \\\n",
       "0                5.9               3.2                4.8               1.8   \n",
       "1                5.7               2.6                3.5               1.0   \n",
       "2                7.2               3.2                6.0               1.8   \n",
       "3                6.3               3.4                5.6               2.4   \n",
       "4                5.7               2.5                5.0               2.0   \n",
       "\n",
       "   target  \n",
       "0     1.0  \n",
       "1     1.0  \n",
       "2     2.0  \n",
       "3     2.0  \n",
       "4     2.0  "
      ]
     },
     "execution_count": 16,
     "metadata": {},
     "output_type": "execute_result"
    }
   ],
   "source": [
    "mnist = pd.read_csv('Data/iris.csv')\n",
    "mnist = mnist.sample(frac=1).reset_index().drop('index',axis=1)\n",
    "mnist.head()"
   ]
  },
  {
   "cell_type": "code",
   "execution_count": 17,
   "metadata": {},
   "outputs": [
    {
     "data": {
      "text/plain": [
       "array([1., 2., 0.])"
      ]
     },
     "execution_count": 17,
     "metadata": {},
     "output_type": "execute_result"
    }
   ],
   "source": [
    "mnist['target'].unique()"
   ]
  },
  {
   "cell_type": "code",
   "execution_count": 18,
   "metadata": {},
   "outputs": [
    {
     "name": "stdout",
     "output_type": "stream",
     "text": [
      "Shape of entire dataset: (150, 5)\n",
      "Shape of train set: (120, 5)\n",
      "Shape of test set: (30, 5)\n"
     ]
    }
   ],
   "source": [
    "train = mnist[:int(len(mnist)*0.8)]\n",
    "test = mnist[int(len(mnist)*0.8):]\n",
    "print(f\"Shape of entire dataset: {mnist.shape}\")\n",
    "print(f\"Shape of train set: {train.shape}\")\n",
    "print(f\"Shape of test set: {test.shape}\")"
   ]
  },
  {
   "cell_type": "code",
   "execution_count": 22,
   "metadata": {},
   "outputs": [],
   "source": [
    "train_x = train.drop('target',axis=1)\n",
    "train_y = train.loc[:,'target']\n",
    "\n",
    "train_x = torch.FloatTensor(train_x.values)\n",
    "train_y = torch.LongTensor(train_y.values)"
   ]
  },
  {
   "cell_type": "code",
   "execution_count": 23,
   "metadata": {},
   "outputs": [
    {
     "data": {
      "text/plain": [
       "tensor([[5.9000, 3.2000, 4.8000, 1.8000],\n",
       "        [5.7000, 2.6000, 3.5000, 1.0000],\n",
       "        [7.2000, 3.2000, 6.0000, 1.8000],\n",
       "        [6.3000, 3.4000, 5.6000, 2.4000],\n",
       "        [5.7000, 2.5000, 5.0000, 2.0000],\n",
       "        [6.0000, 2.9000, 4.5000, 1.5000],\n",
       "        [5.5000, 2.4000, 3.8000, 1.1000],\n",
       "        [4.6000, 3.1000, 1.5000, 0.2000],\n",
       "        [5.8000, 2.7000, 5.1000, 1.9000],\n",
       "        [5.0000, 3.0000, 1.6000, 0.2000]])"
      ]
     },
     "execution_count": 23,
     "metadata": {},
     "output_type": "execute_result"
    }
   ],
   "source": [
    "train_x[:10]"
   ]
  },
  {
   "cell_type": "code",
   "execution_count": 24,
   "metadata": {},
   "outputs": [
    {
     "data": {
      "text/plain": [
       "tensor([1, 1, 2, 2, 2, 1, 1, 0, 2, 0])"
      ]
     },
     "execution_count": 24,
     "metadata": {},
     "output_type": "execute_result"
    }
   ],
   "source": [
    "train_y[:10]"
   ]
  },
  {
   "cell_type": "code",
   "execution_count": 25,
   "metadata": {},
   "outputs": [],
   "source": [
    "class Model(nn.Module):\n",
    "    \n",
    "    def __init__(self,h1,h2,in_features=4,out_features=3):\n",
    "        super().__init__()\n",
    "        self.fc1 = nn.Linear(in_features,h1)\n",
    "        self.fc2 = nn.Linear(h1,h2)\n",
    "        self.fc3 = nn.Linear(h2, out_features)\n",
    "        \n",
    "    def forward(self, x):\n",
    "        x = F.relu(self.fc1(x))\n",
    "        x = F.relu(self.fc2(x))\n",
    "        x = self.fc3(x)\n",
    "        \n",
    "        return x\n",
    "        "
   ]
  },
  {
   "cell_type": "code",
   "execution_count": 27,
   "metadata": {},
   "outputs": [
    {
     "name": "stdout",
     "output_type": "stream",
     "text": [
      "Epoch 0: Loss is 1.0416673421859741\n",
      "Epoch 20: Loss is 0.5783542394638062\n",
      "Epoch 40: Loss is 0.40150317549705505\n",
      "Epoch 60: Loss is 0.35533255338668823\n",
      "Epoch 80: Loss is 0.2985168993473053\n",
      "Epoch 100: Loss is 0.23450838029384613\n",
      "Epoch 120: Loss is 0.18378493189811707\n",
      "Epoch 140: Loss is 0.14520977437496185\n",
      "Epoch 160: Loss is 0.11906984448432922\n",
      "Epoch 180: Loss is 0.10243574529886246\n"
     ]
    }
   ],
   "source": [
    "epochs = 200\n",
    "model = Model(5,6)\n",
    "criterion = nn.CrossEntropyLoss()\n",
    "optimizer = torch.optim.Adam(model.parameters(),lr=0.01)\n",
    "\n",
    "for i in range(epochs):\n",
    "    pred = model.forward(train_x)\n",
    "    loss = criterion(pred,train_y)\n",
    "    \n",
    "    if i%20 == 0:\n",
    "        print(f\"Epoch {i}: Loss is {loss}\")\n",
    "        \n",
    "    optimizer.zero_grad()     # Resets accumulated gradient\n",
    "    loss.backward()           \n",
    "    optimizer.step()          # Backpropagation based on loss.backward() values"
   ]
  },
  {
   "cell_type": "code",
   "execution_count": 28,
   "metadata": {},
   "outputs": [
    {
     "data": {
      "text/plain": [
       "tensor([[ -2.8258,   1.6205,   1.6531],\n",
       "        [ -0.5243,   1.8525,  -1.4626],\n",
       "        [ -4.5042,   1.4513,   3.9254],\n",
       "        [ -7.1072,   1.1889,   7.4495],\n",
       "        [ -6.6832,   1.2316,   6.8754],\n",
       "        [ -1.0787,   1.7966,  -0.7122],\n",
       "        [ -0.5243,   1.8525,  -1.4626],\n",
       "        [  5.1254,  -4.6576,  -5.4466],\n",
       "        [ -5.7858,   1.3221,   5.6605],\n",
       "        [  5.1796,  -4.7178,  -5.4853],\n",
       "        [ -0.5243,   1.8525,  -1.4626],\n",
       "        [ -0.5243,   1.8525,  -1.4626],\n",
       "        [  5.2215,  -4.7789,  -5.5117],\n",
       "        [  6.9042,  -6.7667,  -6.6858],\n",
       "        [ -0.5243,   1.8525,  -1.4626],\n",
       "        [ -7.3127,   1.1681,   7.7277],\n",
       "        [  5.4810,  -5.0797,  -5.6941],\n",
       "        [ -0.5243,   1.8525,  -1.4626],\n",
       "        [ -0.5243,   1.8525,  -1.4626],\n",
       "        [ -7.1943,   1.1801,   7.5674],\n",
       "        [  5.6611,  -5.2887,  -5.8209],\n",
       "        [  5.3421,  -4.9099,  -5.5987],\n",
       "        [ -3.4631,   1.5562,   2.5159],\n",
       "        [  7.0122,  -6.8885,  -6.7626],\n",
       "        [ -0.8847,   1.8161,  -0.9747],\n",
       "        [  4.9158,  -4.4336,  -5.2943],\n",
       "        [  6.8763,  -6.7387,  -6.6656],\n",
       "        [ -0.5243,   1.8525,  -1.4626],\n",
       "        [ -0.5243,   1.8525,  -1.4626],\n",
       "        [  6.6230,  -6.4400,  -6.4886],\n",
       "        [  5.1941,  -4.7483,  -5.4921],\n",
       "        [  5.2460,  -4.8149,  -5.5270],\n",
       "        [ -6.5357,   1.2465,   6.6758],\n",
       "        [ -7.5670,   1.1425,   8.0720],\n",
       "        [  5.2934,  -4.8588,  -5.5630],\n",
       "        [  5.4442,  -5.0292,  -5.6703],\n",
       "        [  5.6169,  -5.2438,  -5.7882],\n",
       "        [ -4.9604,   1.4053,   4.5431],\n",
       "        [ -7.0764,   1.1920,   7.4078],\n",
       "        [ -0.5243,   1.8525,  -1.4626],\n",
       "        [  5.8106,  -5.4700,  -5.9239],\n",
       "        [ -0.9636,   1.8082,  -0.8679],\n",
       "        [ -0.5243,   1.8525,  -1.4626],\n",
       "        [ -7.6122,   1.1379,   8.1332],\n",
       "        [  6.2574,  -5.9904,  -6.2376],\n",
       "        [  5.7633,  -5.4080,  -5.8925],\n",
       "        [ -6.3976,   1.2604,   6.4888],\n",
       "        [ -0.5243,   1.8525,  -1.4626],\n",
       "        [  5.1688,  -4.7203,  -5.4740],\n",
       "        [ -5.7858,   1.3221,   5.6605],\n",
       "        [ -0.5243,   1.8525,  -1.4626],\n",
       "        [  5.4442,  -5.0292,  -5.6703],\n",
       "        [ -3.8920,   1.5130,   3.0967],\n",
       "        [ -5.2508,   1.3760,   4.9363],\n",
       "        [-10.6494,   0.8318,  12.2451],\n",
       "        [ -0.5243,   1.8525,  -1.4626],\n",
       "        [ -0.9751,   1.8070,  -0.8523],\n",
       "        [ -5.7020,   1.3305,   5.5470],\n",
       "        [ -3.3751,   1.5651,   2.3969],\n",
       "        [  5.1548,  -4.6924,  -5.4671],\n",
       "        [ -7.7790,   1.1211,   8.3589],\n",
       "        [ -5.6305,   1.3377,   5.4503],\n",
       "        [ -7.3085,   1.1686,   7.7221],\n",
       "        [ -0.6222,   1.8426,  -1.3302],\n",
       "        [ -0.5243,   1.8525,  -1.4626],\n",
       "        [ -0.5243,   1.8525,  -1.4626],\n",
       "        [  5.0259,  -4.5439,  -5.3762],\n",
       "        [  5.8137,  -5.4706,  -5.9269],\n",
       "        [ -7.9860,   1.1003,   8.6393],\n",
       "        [  5.4355,  -5.0492,  -5.6565],\n",
       "        [  6.2281,  -5.9621,  -6.2155],\n",
       "        [ -2.2513,   1.6784,   0.8755],\n",
       "        [  5.4442,  -5.0292,  -5.6703],\n",
       "        [ -4.8901,   1.4124,   4.4479],\n",
       "        [ -1.4254,   1.7616,  -0.2427],\n",
       "        [ -3.4433,   1.5582,   2.4891],\n",
       "        [ -2.9502,   1.6079,   1.8216],\n",
       "        [ -5.5750,   1.3433,   5.3751],\n",
       "        [ -1.7369,   1.7302,   0.1789],\n",
       "        [ -0.5367,   1.8512,  -1.4459],\n",
       "        [ -3.9803,   1.5041,   3.2162],\n",
       "        [ -6.1038,   1.2900,   6.0910],\n",
       "        [  5.9546,  -5.6412,  -6.0241],\n",
       "        [ -0.5243,   1.8525,  -1.4626],\n",
       "        [  5.9243,  -5.6018,  -6.0039],\n",
       "        [  6.3625,  -6.1225,  -6.3089],\n",
       "        [  4.8649,  -4.3501,  -5.2647],\n",
       "        [  6.2592,  -5.9948,  -6.2383],\n",
       "        [  5.8939,  -5.5624,  -5.9836],\n",
       "        [  5.9286,  -5.6036,  -6.0077],\n",
       "        [ -3.9877,   1.5033,   3.2262],\n",
       "        [  5.1968,  -4.7442,  -5.4958],\n",
       "        [  6.1917,  -5.9167,  -6.1908],\n",
       "        [ -0.5243,   1.8525,  -1.4626],\n",
       "        [ -4.6475,   1.4368,   4.1195],\n",
       "        [ -0.5243,   1.8525,  -1.4626],\n",
       "        [  6.0914,  -5.8018,  -6.1198],\n",
       "        [ -7.5214,   1.1471,   8.0102],\n",
       "        [ -4.4832,   1.4534,   3.8971],\n",
       "        [ -6.1478,   1.2856,   6.1506],\n",
       "        [  5.7773,  -5.4235,  -5.9025],\n",
       "        [ -6.1025,   1.2901,   6.0893],\n",
       "        [  4.2129,  -3.5774,  -4.8104],\n",
       "        [ -1.0421,   1.8003,  -0.7617],\n",
       "        [ -0.8830,   1.8163,  -0.9770],\n",
       "        [ -0.5243,   1.8525,  -1.4626],\n",
       "        [ -0.5243,   1.8525,  -1.4626],\n",
       "        [ -0.5243,   1.8525,  -1.4626],\n",
       "        [ -6.2209,   1.2782,   6.2495],\n",
       "        [  5.0700,  -4.5932,  -5.4076],\n",
       "        [  5.7429,  -5.3993,  -5.8743],\n",
       "        [ -0.8259,   1.8221,  -1.0543],\n",
       "        [  5.3714,  -4.9551,  -5.6165],\n",
       "        [  5.4240,  -5.0132,  -5.6542],\n",
       "        [ -2.7390,   1.6292,   1.5357],\n",
       "        [ -0.5243,   1.8525,  -1.4626],\n",
       "        [ -3.8131,   1.5209,   2.9899],\n",
       "        [  5.3002,  -4.8580,  -5.5701],\n",
       "        [ -6.5985,   1.2401,   6.7608],\n",
       "        [ -0.5243,   1.8525,  -1.4626]], grad_fn=<AddmmBackward0>)"
      ]
     },
     "execution_count": 28,
     "metadata": {},
     "output_type": "execute_result"
    }
   ],
   "source": [
    "pred"
   ]
  },
  {
   "cell_type": "code",
   "execution_count": 29,
   "metadata": {},
   "outputs": [],
   "source": [
    "test_x = test.drop('target',axis=1)\n",
    "test_y = test.loc[:,'target']\n",
    "\n",
    "test_x = torch.FloatTensor(test_x.values)\n",
    "test_y = torch.LongTensor(test_y.values)"
   ]
  },
  {
   "cell_type": "code",
   "execution_count": 41,
   "metadata": {},
   "outputs": [
    {
     "name": "stdout",
     "output_type": "stream",
     "text": [
      "S/N\t\tPred\t\tActual\n",
      "0\t\t0\t\t0\n",
      "1\t\t2\t\t2\n",
      "2\t\t1\t\t1\n",
      "3\t\t2\t\t2\n",
      "4\t\t2\t\t2\n",
      "5\t\t1\t\t1\n",
      "6\t\t1\t\t1\n",
      "7\t\t2\t\t2\n",
      "8\t\t1\t\t1\n",
      "9\t\t0\t\t0\n",
      "10\t\t2\t\t2\n",
      "11\t\t0\t\t0\n",
      "12\t\t0\t\t0\n",
      "13\t\t0\t\t0\n",
      "14\t\t2\t\t2\n",
      "15\t\t2\t\t2\n",
      "16\t\t2\t\t2\n",
      "17\t\t2\t\t2\n",
      "18\t\t1\t\t1\n",
      "19\t\t1\t\t1\n",
      "20\t\t2\t\t2\n",
      "21\t\t1\t\t1\n",
      "22\t\t2\t\t2\n",
      "23\t\t1\t\t1\n",
      "24\t\t2\t\t2\n",
      "25\t\t1\t\t1\n",
      "26\t\t2\t\t2\n",
      "27\t\t1\t\t1\n",
      "28\t\t0\t\t0\n",
      "29\t\t1\t\t1\n",
      "Number of correct values:30/30 (100.0%)\n"
     ]
    }
   ],
   "source": [
    "correct = 0\n",
    "with torch.no_grad():\n",
    "    pred = model.forward(test_x)\n",
    "    print(\"S/N\\t\\tPred\\t\\tActual\")\n",
    "    for i in range(len(pred)):\n",
    "        print(f\"{i}\\t\\t{torch.argmax(pred[i])}\\t\\t{test_y[i]}\")\n",
    "        if torch.argmax(pred[i]) == test_y[i]:\n",
    "            correct += 1\n",
    "    \n",
    "    print(f\"Number of correct values:{correct}/{len(pred)} ({correct*100/len(pred)}%)\")"
   ]
  },
  {
   "cell_type": "code",
   "execution_count": 38,
   "metadata": {},
   "outputs": [
    {
     "data": {
      "text/plain": [
       "tensor(2)"
      ]
     },
     "execution_count": 38,
     "metadata": {},
     "output_type": "execute_result"
    }
   ],
   "source": [
    "torch.argmax(pred[1])"
   ]
  }
 ],
 "metadata": {
  "kernelspec": {
   "display_name": "Python 3",
   "language": "python",
   "name": "python3"
  },
  "language_info": {
   "codemirror_mode": {
    "name": "ipython",
    "version": 3
   },
   "file_extension": ".py",
   "mimetype": "text/x-python",
   "name": "python",
   "nbconvert_exporter": "python",
   "pygments_lexer": "ipython3",
   "version": "3.7.3"
  }
 },
 "nbformat": 4,
 "nbformat_minor": 4
}
