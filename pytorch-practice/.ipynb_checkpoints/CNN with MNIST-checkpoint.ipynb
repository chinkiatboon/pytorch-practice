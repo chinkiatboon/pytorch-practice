{
 "cells": [
  {
   "cell_type": "code",
   "execution_count": 56,
   "id": "67cbee13",
   "metadata": {},
   "outputs": [],
   "source": [
    "from datetime import datetime\n",
    "import tqdm\n",
    "\n",
    "import torch\n",
    "import torch.nn as nn\n",
    "import torch.nn.functional as F\n",
    "from torch.utils.data import DataLoader\n",
    "from torchvision import datasets, transforms\n",
    "from torchvision.utils import make_grid\n",
    "\n",
    "import numpy as np\n",
    "import pandas as pd\n",
    "from sklearn.metrics import confusion_matrix\n",
    "import matplotlib.pyplot as plt"
   ]
  },
  {
   "cell_type": "code",
   "execution_count": 2,
   "id": "21951aa6",
   "metadata": {},
   "outputs": [],
   "source": [
    "transform = transforms.ToTensor()\n",
    "train_data = datasets.MNIST(root='Data', train=True,download=True, transform=transform)\n",
    "test_data = datasets.MNIST(root='Data',train=False,download=True,transform=transform)"
   ]
  },
  {
   "cell_type": "code",
   "execution_count": 3,
   "id": "4609d194",
   "metadata": {},
   "outputs": [],
   "source": [
    "train_loader = DataLoader(train_data,batch_size=10,shuffle=True)\n",
    "test_loader = DataLoader(test_data,batch_size=10,shuffle=False)"
   ]
  },
  {
   "cell_type": "code",
   "execution_count": 14,
   "id": "fa3ea610",
   "metadata": {},
   "outputs": [
    {
     "data": {
      "text/plain": [
       "6000"
      ]
     },
     "execution_count": 14,
     "metadata": {},
     "output_type": "execute_result"
    }
   ],
   "source": [
    "len(train_loader)"
   ]
  },
  {
   "cell_type": "code",
   "execution_count": 37,
   "id": "d3f6caa7",
   "metadata": {},
   "outputs": [],
   "source": [
    "class Model(nn.Module):\n",
    "    def __init__(self):\n",
    "        super().__init__()\n",
    "        self.conv1 = nn.Conv2d(1,6,3,1,padding=1)\n",
    "        self.conv2 = nn.Conv2d(6,16,3,1,padding=1)\n",
    "        self.fc1 = nn.Linear(7*7*16,120)       # From image of 28*28, after two max pooling layers of 2*2, size becomes 7*7\n",
    "        self.fc2 = nn.Linear(120,84)\n",
    "        self.fc3 = nn.Linear(84,10)\n",
    "        \n",
    "    def forward(self,X):\n",
    "        X = F.relu(self.conv1(X))\n",
    "        X = F.max_pool2d(X,2,2)\n",
    "        X = F.relu(self.conv2(X))\n",
    "        X = F.max_pool2d(X,2,2)\n",
    "        X = X.reshape(-1, 7*7*16)\n",
    "        X = F.relu(self.fc1(X))\n",
    "        X = F.relu(self.fc2(X))\n",
    "        X = self.fc3(X)\n",
    "        \n",
    "        return F.log_softmax(X,dim=1)"
   ]
  },
  {
   "cell_type": "code",
   "execution_count": 70,
   "id": "384fadfd",
   "metadata": {},
   "outputs": [
    {
     "data": {
      "text/plain": [
       "Model(\n",
       "  (conv1): Conv2d(1, 6, kernel_size=(3, 3), stride=(1, 1), padding=(1, 1))\n",
       "  (conv2): Conv2d(6, 16, kernel_size=(3, 3), stride=(1, 1), padding=(1, 1))\n",
       "  (fc1): Linear(in_features=784, out_features=120, bias=True)\n",
       "  (fc2): Linear(in_features=120, out_features=84, bias=True)\n",
       "  (fc3): Linear(in_features=84, out_features=10, bias=True)\n",
       ")"
      ]
     },
     "execution_count": 70,
     "metadata": {},
     "output_type": "execute_result"
    }
   ],
   "source": [
    "model = Model()\n",
    "model"
   ]
  },
  {
   "cell_type": "code",
   "execution_count": 71,
   "id": "1586cf63",
   "metadata": {},
   "outputs": [],
   "source": [
    "criterion = nn.CrossEntropyLoss()\n",
    "optimizer = torch.optim.Adam(model.parameters(),lr=0.001)"
   ]
  },
  {
   "cell_type": "code",
   "execution_count": 72,
   "id": "a17887b4",
   "metadata": {},
   "outputs": [
    {
     "name": "stdout",
     "output_type": "stream",
     "text": [
      "Epoch: 1 Batch: 600 Loss: 0.19717800617218018 \n",
      "Epoch: 1 Batch: 1200 Loss: 0.01717962883412838 \n",
      "Epoch: 1 Batch: 1800 Loss: 0.1203460842370987 \n",
      "Epoch: 1 Batch: 2400 Loss: 0.013048174791038036 \n",
      "Epoch: 1 Batch: 3000 Loss: 0.0773332267999649 \n",
      "Epoch: 1 Batch: 3600 Loss: 0.01829024776816368 \n",
      "Epoch: 1 Batch: 4200 Loss: 0.005192358046770096 \n",
      "Epoch: 1 Batch: 4800 Loss: 0.03331056982278824 \n",
      "Epoch: 1 Batch: 5400 Loss: 0.0040619452483952045 \n",
      "Epoch: 1 Batch: 6000 Loss: 0.0010726209729909897 \n",
      "Epoch: 2 Batch: 600 Loss: 0.1170358881354332 \n",
      "Epoch: 2 Batch: 1200 Loss: 0.030269509181380272 \n",
      "Epoch: 2 Batch: 1800 Loss: 0.7273836135864258 \n",
      "Epoch: 2 Batch: 2400 Loss: 0.012323424220085144 \n",
      "Epoch: 2 Batch: 3000 Loss: 0.007456348743289709 \n",
      "Epoch: 2 Batch: 3600 Loss: 0.01938294619321823 \n",
      "Epoch: 2 Batch: 4200 Loss: 0.011876360513269901 \n",
      "Epoch: 2 Batch: 4800 Loss: 0.00015487297787331045 \n",
      "Epoch: 2 Batch: 5400 Loss: 0.00022980011999607086 \n",
      "Epoch: 2 Batch: 6000 Loss: 0.14991609752178192 \n",
      "Epoch: 3 Batch: 600 Loss: 0.011070327833294868 \n",
      "Epoch: 3 Batch: 1200 Loss: 0.001473630778491497 \n",
      "Epoch: 3 Batch: 1800 Loss: 0.003210636554285884 \n",
      "Epoch: 3 Batch: 2400 Loss: 0.5020376443862915 \n",
      "Epoch: 3 Batch: 3000 Loss: 0.007226718124002218 \n",
      "Epoch: 3 Batch: 3600 Loss: 0.06044662743806839 \n",
      "Epoch: 3 Batch: 4200 Loss: 0.00016721326392143965 \n",
      "Epoch: 3 Batch: 4800 Loss: 0.0058563100174069405 \n",
      "Epoch: 3 Batch: 5400 Loss: 0.03990822285413742 \n",
      "Epoch: 3 Batch: 6000 Loss: 0.021415360271930695 \n",
      "Epoch: 4 Batch: 600 Loss: 0.001918103895150125 \n",
      "Epoch: 4 Batch: 1200 Loss: 0.29141801595687866 \n",
      "Epoch: 4 Batch: 1800 Loss: 0.2574974000453949 \n",
      "Epoch: 4 Batch: 2400 Loss: 0.00017669757653493434 \n",
      "Epoch: 4 Batch: 3000 Loss: 0.03000159002840519 \n",
      "Epoch: 4 Batch: 3600 Loss: 0.09248675405979156 \n",
      "Epoch: 4 Batch: 4200 Loss: 5.524482548935339e-05 \n",
      "Epoch: 4 Batch: 4800 Loss: 0.0010000595357269049 \n",
      "Epoch: 4 Batch: 5400 Loss: 0.00010873891733353958 \n",
      "Epoch: 4 Batch: 6000 Loss: 0.13638916611671448 \n",
      "Epoch: 5 Batch: 600 Loss: 0.11620129644870758 \n",
      "Epoch: 5 Batch: 1200 Loss: 0.6275225877761841 \n",
      "Epoch: 5 Batch: 1800 Loss: 0.000878865655977279 \n",
      "Epoch: 5 Batch: 2400 Loss: 0.34916919469833374 \n",
      "Epoch: 5 Batch: 3000 Loss: 0.00023525208234786987 \n",
      "Epoch: 5 Batch: 3600 Loss: 0.00015018423437140882 \n",
      "Epoch: 5 Batch: 4200 Loss: 0.0004991252208128572 \n",
      "Epoch: 5 Batch: 4800 Loss: 0.033856939524412155 \n",
      "Epoch: 5 Batch: 5400 Loss: 0.0009912520181387663 \n",
      "Epoch: 5 Batch: 6000 Loss: 0.08266238868236542 \n",
      "Time taken for model: 0:01:39.590186\n"
     ]
    }
   ],
   "source": [
    "epochs = 5\n",
    "\n",
    "train_losses = []\n",
    "test_losses = []\n",
    "train_correct_total = []\n",
    "test_correct_total = []\n",
    "\n",
    "\n",
    "start_time = datetime.now()\n",
    "for i in range(1,epochs+1):\n",
    "    \n",
    "    train_correct = 0\n",
    "    test_correct = 0\n",
    "    \n",
    "    for b, (train_data,train_label) in enumerate(train_loader):\n",
    "        b += 1\n",
    "        y_pred = model(train_data)\n",
    "        loss = criterion(y_pred,train_label)\n",
    "        \n",
    "        predictions = torch.max(y_pred,1)[1]    # List of predictions made\n",
    "        num_correct = (predictions == train_label).sum()\n",
    "        train_correct += num_correct\n",
    "        \n",
    "        optimizer.zero_grad()\n",
    "        loss.backward()\n",
    "        optimizer.step()\n",
    "        \n",
    "        if b % 600 == 0:\n",
    "            print(f\"Epoch: {i} Batch: {b} Loss: {loss.item()} \")\n",
    "      \n",
    "    train_losses.append(loss.detach().numpy())\n",
    "    train_correct_total.append(train_correct)\n",
    "    \n",
    "    with torch.no_grad():\n",
    "        for b, (test_data, test_label) in enumerate(test_loader):\n",
    "            b += 1\n",
    "            y_pred = model(test_data)\n",
    "            loss = criterion(y_pred,test_label)\n",
    "            \n",
    "            predictions = torch.max(y_pred,1)[1]\n",
    "            num_correct = (predictions == test_label).sum()\n",
    "            test_correct += num_correct\n",
    "            \n",
    "        test_losses.append(loss.detach().numpy())\n",
    "        test_correct_total.append(test_correct)\n",
    "        \n",
    "end_time = datetime.now()\n",
    "print(f\"Time taken for model: {str(end_time-start_time)}\")"
   ]
  },
  {
   "cell_type": "code",
   "execution_count": 74,
   "id": "9b858373",
   "metadata": {},
   "outputs": [
    {
     "data": {
      "text/plain": [
       "[<matplotlib.lines.Line2D at 0x7f940539d8b0>]"
      ]
     },
     "execution_count": 74,
     "metadata": {},
     "output_type": "execute_result"
    },
    {
     "data": {
      "image/png": "[encoded data removed]",
      "text/plain": [
       "<Figure size 432x288 with 1 Axes>"
      ]
     },
     "metadata": {
      "needs_background": "light"
     },
     "output_type": "display_data"
    }
   ],
   "source": [
    "plt.plot(test_losses)"
   ]
  },
  {
   "cell_type": "code",
   "execution_count": 84,
   "id": "40f5edbc",
   "metadata": {},
   "outputs": [
    {
     "data": {
      "image/png": "[encoded data removed]",
      "text/plain": [
       "<Figure size 432x288 with 1 Axes>"
      ]
     },
     "metadata": {
      "needs_background": "light"
     },
     "output_type": "display_data"
    }
   ],
   "source": [
    "plt.plot([t/(6000*10) * 100 for t in train_correct_total], label= 'train accuracy')\n",
    "plt.plot([t/(1000*10) * 100 for t in test_correct_total], label= 'test accuracy')\n",
    "plt.title('Accuracy over each epoch')\n",
    "plt.legend()\n",
    "plt.show()"
   ]
  },
  {
   "cell_type": "code",
   "execution_count": 99,
   "id": "c7b4a725",
   "metadata": {},
   "outputs": [
    {
     "name": "stdout",
     "output_type": "stream",
     "text": [
      "Total correct: 9889\tAccuracy: 0.9889000058174133\n"
     ]
    }
   ],
   "source": [
    "test_data = datasets.MNIST(root='Data',train=False,download=True,transform=transform)\n",
    "test_loader_all = DataLoader(test_data,batch_size=10*1000,shuffle=False)\n",
    "with torch.no_grad():\n",
    "    correct = 0\n",
    "    for test_x, test_y in test_loader_all:\n",
    "        y_pred = model(test_x)\n",
    "        predicted = torch.max(y_pred,1)[1]\n",
    "        correct += (predicted == test_y).sum()\n",
    "    \n",
    "    print(f\"Total correct: {correct}\\tAccuracy: {correct/10000}\")"
   ]
  }
 ],
 "metadata": {
  "kernelspec": {
   "display_name": "Python 3 (ipykernel)",
   "language": "python",
   "name": "python3"
  },
  "language_info": {
   "codemirror_mode": {
    "name": "ipython",
    "version": 3
   },
   "file_extension": ".py",
   "mimetype": "text/x-python",
   "name": "python",
   "nbconvert_exporter": "python",
   "pygments_lexer": "ipython3",
   "version": "3.9.12"
  }
 },
 "nbformat": 4,
 "nbformat_minor": 5
}
