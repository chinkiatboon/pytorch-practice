{
 "cells": [
  {
   "cell_type": "code",
   "execution_count": null,
   "metadata": {},
   "outputs": [],
   "source": [
    "pip install torch"
   ]
  },
  {
   "cell_type": "code",
   "execution_count": 1,
   "metadata": {},
   "outputs": [
    {
     "ename": "ModuleNotFoundError",
     "evalue": "No module named 'torch'",
     "output_type": "error",
     "traceback": [
      "\u001b[1;31m---------------------------------------------------------------------------\u001b[0m",
      "\u001b[1;31mModuleNotFoundError\u001b[0m                       Traceback (most recent call last)",
      "\u001b[1;32m<ipython-input-1-a5380efe8c02>\u001b[0m in \u001b[0;36m<module>\u001b[1;34m\u001b[0m\n\u001b[1;32m----> 1\u001b[1;33m \u001b[1;32mimport\u001b[0m \u001b[0mtorch\u001b[0m\u001b[1;33m\u001b[0m\u001b[1;33m\u001b[0m\u001b[0m\n\u001b[0m\u001b[0;32m      2\u001b[0m \u001b[1;32mimport\u001b[0m \u001b[0mtorch\u001b[0m\u001b[1;33m.\u001b[0m\u001b[0mnn\u001b[0m \u001b[1;32mas\u001b[0m \u001b[0mnn\u001b[0m\u001b[1;33m\u001b[0m\u001b[1;33m\u001b[0m\u001b[0m\n\u001b[0;32m      3\u001b[0m \u001b[1;32mimport\u001b[0m \u001b[0mnumpy\u001b[0m \u001b[1;32mas\u001b[0m \u001b[0mnp\u001b[0m\u001b[1;33m\u001b[0m\u001b[1;33m\u001b[0m\u001b[0m\n\u001b[0;32m      4\u001b[0m \u001b[1;32mfrom\u001b[0m \u001b[0mmatplotlib\u001b[0m \u001b[1;32mimport\u001b[0m \u001b[0mpyplot\u001b[0m\u001b[1;33m\u001b[0m\u001b[1;33m\u001b[0m\u001b[0m\n",
      "\u001b[1;31mModuleNotFoundError\u001b[0m: No module named 'torch'"
     ]
    }
   ],
   "source": [
    "import torch\n",
    "import torch.nn as nn\n",
    "import numpy as np\n",
    "from matplotlib import pyplot"
   ]
  },
  {
   "cell_type": "markdown",
   "metadata": {},
   "source": [
    "## Preparing Dataset"
   ]
  },
  {
   "cell_type": "code",
   "execution_count": 174,
   "metadata": {},
   "outputs": [],
   "source": [
    "e = torch.randint(-3,4,(50,1),dtype=torch.float)  # from -3 to 3"
   ]
  },
  {
   "cell_type": "code",
   "execution_count": 175,
   "metadata": {},
   "outputs": [],
   "source": [
    "x = torch.arange(1,51).reshape(-1,1)\n",
    "x = x.to(torch.float)\n",
    "y = 4*x + 2 + e"
   ]
  },
  {
   "cell_type": "code",
   "execution_count": 176,
   "metadata": {},
   "outputs": [
    {
     "data": {
      "text/plain": [
       "[<matplotlib.lines.Line2D at 0x2e06c1d2ba8>]"
      ]
     },
     "execution_count": 176,
     "metadata": {},
     "output_type": "execute_result"
    },
    {
     "data": {
      "image/png": "[encoded data removed]",
      "text/plain": [
       "<Figure size 432x288 with 1 Axes>"
      ]
     },
     "metadata": {
      "needs_background": "light"
     },
     "output_type": "display_data"
    }
   ],
   "source": [
    "pyplot.plot(x,y)"
   ]
  },
  {
   "cell_type": "markdown",
   "metadata": {},
   "source": [
    "## Creating simple 1-layer FFN"
   ]
  },
  {
   "cell_type": "code",
   "execution_count": 219,
   "metadata": {},
   "outputs": [],
   "source": [
    "class Model(nn.Module):\n",
    "    \n",
    "    def __init__(self, in_features=1,out_features=1):\n",
    "        \n",
    "        super().__init__()\n",
    "        self.linear = nn.Linear(in_features,out_features)\n",
    "        \n",
    "    def forward(self, x):\n",
    "        pred = self.linear(x)\n",
    "        return pred"
   ]
  },
  {
   "cell_type": "code",
   "execution_count": 220,
   "metadata": {},
   "outputs": [],
   "source": [
    "model = Model(1,1)\n",
    "criterion = nn.MSELoss()\n",
    "optimizer = torch.optim.SGD(model.parameters(), lr=0.001)"
   ]
  },
  {
   "cell_type": "code",
   "execution_count": 221,
   "metadata": {},
   "outputs": [
    {
     "name": "stdout",
     "output_type": "stream",
     "text": [
      "Epoch 1--\n",
      " Loss:11108.775390625, Weight: 0.46776509284973145, Bias: 0.05945849418640137\n",
      "Epoch 2--\n",
      " Loss:5737.7763671875, Weight: 6.642539978027344, Bias: 0.24404357373714447\n",
      "Epoch 3--\n",
      " Loss:2964.919677734375, Weight: 2.205812931060791, Bias: 0.11334593594074249\n",
      "Epoch 4--\n",
      " Loss:1533.3944091796875, Weight: 5.393611907958984, Bias: 0.20918278396129608\n",
      "Epoch 5--\n",
      " Loss:794.347900390625, Weight: 3.103071689605713, Bias: 0.1422502100467682\n",
      "Epoch 6--\n",
      " Loss:412.8038330078125, Weight: 4.748802661895752, Bias: 0.19226905703544617\n",
      "Epoch 7--\n",
      " Loss:215.82562255859375, Weight: 3.566262722015381, Bias: 0.15825557708740234\n",
      "Epoch 8--\n",
      " Loss:114.13221740722656, Weight: 4.415878772735596, Bias: 0.18461966514587402\n",
      "Epoch 9--\n",
      " Loss:61.6308479309082, Weight: 3.8053596019744873, Bias: 0.167600616812706\n",
      "Epoch 10--\n",
      " Loss:34.525726318359375, Weight: 4.243969440460205, Bias: 0.1817520707845688\n",
      "Epoch 11--\n",
      " Loss:20.5317440032959, Weight: 3.928764581680298, Bias: 0.17350612580776215\n",
      "Epoch 12--\n",
      " Loss:13.306517601013184, Weight: 4.155186653137207, Bias: 0.18135210871696472\n",
      "Epoch 13--\n",
      " Loss:9.575826644897461, Weight: 3.9924423694610596, Bias: 0.17763489484786987\n",
      "Epoch 14--\n",
      " Loss:7.649219512939453, Weight: 4.109319686889648, Bias: 0.1822250634431839\n",
      "Epoch 15--\n",
      " Loss:6.653968334197998, Weight: 4.025284290313721, Bias: 0.18084530532360077\n",
      "Epoch 16--\n",
      " Loss:6.139561653137207, Weight: 4.085608005523682, Bias: 0.1837541162967682\n",
      "Epoch 17--\n",
      " Loss:5.873391628265381, Weight: 4.04220724105835, Bias: 0.18358059227466583\n",
      "Epoch 18--\n",
      " Loss:5.7353644371032715, Weight: 4.073334693908691, Bias: 0.18562085926532745\n",
      "Epoch 19--\n",
      " Loss:5.663506984710693, Weight: 4.050912380218506, Bias: 0.1860695481300354\n",
      "Epoch 20--\n",
      " Loss:5.625824451446533, Weight: 4.066966533660889, Bias: 0.18766087293624878\n",
      "Epoch 21--\n",
      " Loss:5.605757236480713, Weight: 4.0553741455078125, Bias: 0.18843024969100952\n",
      "Epoch 22--\n",
      " Loss:5.5948028564453125, Weight: 4.0636467933654785, Bias: 0.1897893100976944\n",
      "Epoch 23--\n",
      " Loss:5.588546276092529, Weight: 4.057645797729492, Bias: 0.1907237470149994\n",
      "Epoch 24--\n",
      " Loss:5.584719657897949, Weight: 4.061901092529297, Bias: 0.1919623613357544\n",
      "Epoch 25--\n",
      " Loss:5.582154750823975, Weight: 4.058786869049072, Bias: 0.19298148155212402\n",
      "Epoch 26--\n",
      " Loss:5.580224990844727, Weight: 4.060967922210693, Bias: 0.19415739178657532\n",
      "Epoch 27--\n",
      " Loss:5.578639507293701, Weight: 4.059344291687012, Bias: 0.1952197104692459\n",
      "Epoch 28--\n",
      " Loss:5.577225208282471, Weight: 4.06045389175415, Bias: 0.19636270403862\n",
      "Epoch 29--\n",
      " Loss:5.575901031494141, Weight: 4.059599876403809, Bias: 0.1974468231201172\n",
      "Epoch 30--\n",
      " Loss:5.5746259689331055, Weight: 4.06015682220459, Bias: 0.1985723376274109\n",
      "Epoch 31--\n",
      " Loss:5.573368549346924, Weight: 4.059700012207031, Bias: 0.19966718554496765\n",
      "Epoch 32--\n",
      " Loss:5.5721330642700195, Weight: 4.059972286224365, Bias: 0.2007831484079361\n",
      "Epoch 33--\n",
      " Loss:5.570903301239014, Weight: 4.059719562530518, Bias: 0.2018829882144928\n",
      "Epoch 34--\n",
      " Loss:5.569669246673584, Weight: 4.059844970703125, Bias: 0.20299352705478668\n",
      "Epoch 35--\n",
      " Loss:5.568451404571533, Weight: 4.059698581695557, Bias: 0.20409545302391052\n",
      "Epoch 36--\n",
      " Loss:5.567227363586426, Weight: 4.059747219085693, Bias: 0.2052026242017746\n",
      "Epoch 37--\n",
      " Loss:5.5659990310668945, Weight: 4.059656143188477, Bias: 0.2063051164150238\n",
      "Epoch 38--\n",
      " Loss:5.564786434173584, Weight: 4.059665203094482, Bias: 0.2074100524187088\n",
      "Epoch 39--\n",
      " Loss:5.563567638397217, Weight: 4.0596022605896, Bias: 0.2085123062133789\n",
      "Epoch 40--\n",
      " Loss:5.562351703643799, Weight: 4.059591293334961, Bias: 0.2096155732870102\n",
      "Epoch 41--\n",
      " Loss:5.561140537261963, Weight: 4.059542655944824, Bias: 0.21071718633174896\n",
      "Epoch 42--\n",
      " Loss:5.5599212646484375, Weight: 4.059521198272705, Bias: 0.21181906759738922\n",
      "Epoch 43--\n",
      " Loss:5.558707237243652, Weight: 4.0594801902771, Bias: 0.21291984617710114\n",
      "Epoch 44--\n",
      " Loss:5.557501316070557, Weight: 4.059453964233398, Bias: 0.2140205204486847\n",
      "Epoch 45--\n",
      " Loss:5.556288242340088, Weight: 4.0594162940979, Bias: 0.215120330452919\n",
      "Epoch 46--\n",
      " Loss:5.555078029632568, Weight: 4.05938720703125, Bias: 0.21621985733509064\n",
      "Epoch 47--\n",
      " Loss:5.5538716316223145, Weight: 4.059352397918701, Bias: 0.21731866896152496\n",
      "Epoch 48--\n",
      " Loss:5.552661895751953, Weight: 4.059321403503418, Bias: 0.21841706335544586\n",
      "Epoch 49--\n",
      " Loss:5.551454544067383, Weight: 4.0592875480651855, Bias: 0.2195148468017578\n",
      "Epoch 50--\n",
      " Loss:5.550255298614502, Weight: 4.059255599975586, Bias: 0.22061215341091156\n",
      "Epoch 51--\n",
      " Loss:5.549047946929932, Weight: 4.05922269821167, Bias: 0.22170889377593994\n",
      "Epoch 52--\n",
      " Loss:5.547842502593994, Weight: 4.059190273284912, Bias: 0.22280511260032654\n",
      "Epoch 53--\n",
      " Loss:5.546648979187012, Weight: 4.059157371520996, Bias: 0.22390079498291016\n",
      "Epoch 54--\n",
      " Loss:5.545440196990967, Weight: 4.059124946594238, Bias: 0.224995955824852\n",
      "Epoch 55--\n",
      " Loss:5.544243335723877, Weight: 4.0590925216674805, Bias: 0.22609059512615204\n",
      "Epoch 56--\n",
      " Loss:5.543046951293945, Weight: 4.059060096740723, Bias: 0.2271846979856491\n",
      "Epoch 57--\n",
      " Loss:5.541845798492432, Weight: 4.059027194976807, Bias: 0.2282782644033432\n",
      "Epoch 58--\n",
      " Loss:5.540653705596924, Weight: 4.058995723724365, Bias: 0.2293713241815567\n",
      "Epoch 59--\n",
      " Loss:5.539464950561523, Weight: 4.058962345123291, Bias: 0.23046380281448364\n",
      "Epoch 60--\n",
      " Loss:5.538266181945801, Weight: 4.058930397033691, Bias: 0.2315557897090912\n",
      "Epoch 61--\n",
      " Loss:5.537075996398926, Weight: 4.058897972106934, Bias: 0.23264724016189575\n",
      "Epoch 62--\n",
      " Loss:5.535879611968994, Weight: 4.058865070343018, Bias: 0.23373813927173615\n",
      "Epoch 63--\n",
      " Loss:5.53469705581665, Weight: 4.058833122253418, Bias: 0.23482854664325714\n",
      "Epoch 64--\n",
      " Loss:5.53350830078125, Weight: 4.058800220489502, Bias: 0.23591840267181396\n",
      "Epoch 65--\n",
      " Loss:5.532320976257324, Weight: 4.058768272399902, Bias: 0.2370077520608902\n",
      "Epoch 66--\n",
      " Loss:5.531129837036133, Weight: 4.058735370635986, Bias: 0.23809655010700226\n",
      "Epoch 67--\n",
      " Loss:5.529948711395264, Weight: 4.058703899383545, Bias: 0.23918485641479492\n",
      "Epoch 68--\n",
      " Loss:5.5287652015686035, Weight: 4.058670997619629, Bias: 0.24027259647846222\n",
      "Epoch 69--\n",
      " Loss:5.527581214904785, Weight: 4.058638572692871, Bias: 0.24135982990264893\n",
      "Epoch 70--\n",
      " Loss:5.526398181915283, Weight: 4.0586066246032715, Bias: 0.24244654178619385\n",
      "Epoch 71--\n",
      " Loss:5.5252203941345215, Weight: 4.058574199676514, Bias: 0.2435327172279358\n",
      "Epoch 72--\n",
      " Loss:5.524031162261963, Weight: 4.058542251586914, Bias: 0.24461837112903595\n",
      "Epoch 73--\n",
      " Loss:5.5228590965271, Weight: 4.058509826660156, Bias: 0.24570348858833313\n",
      "Epoch 74--\n",
      " Loss:5.521685600280762, Weight: 4.058477878570557, Bias: 0.24678808450698853\n",
      "Epoch 75--\n",
      " Loss:5.520510673522949, Weight: 4.058444976806641, Bias: 0.24787212908267975\n",
      "Epoch 76--\n",
      " Loss:5.519336700439453, Weight: 4.058413505554199, Bias: 0.24895568192005157\n",
      "Epoch 77--\n",
      " Loss:5.518161773681641, Weight: 4.058380603790283, Bias: 0.25003868341445923\n",
      "Epoch 78--\n",
      " Loss:5.516984462738037, Weight: 4.058349132537842, Bias: 0.2511211931705475\n",
      "Epoch 79--\n",
      " Loss:5.515810489654541, Weight: 4.058316707611084, Bias: 0.2522031366825104\n",
      "Epoch 80--\n",
      " Loss:5.5146403312683105, Weight: 4.058284759521484, Bias: 0.2532845735549927\n",
      "Epoch 81--\n",
      " Loss:5.513473033905029, Weight: 4.058252334594727, Bias: 0.254365473985672\n",
      "Epoch 82--\n",
      " Loss:5.5123090744018555, Weight: 4.058220386505127, Bias: 0.2554458677768707\n",
      "Epoch 83--\n",
      " Loss:5.511143684387207, Weight: 4.058187961578369, Bias: 0.2565257251262665\n",
      "Epoch 84--\n",
      " Loss:5.509970188140869, Weight: 4.058156490325928, Bias: 0.25760507583618164\n",
      "Epoch 85--\n",
      " Loss:5.5088114738464355, Weight: 4.05812406539917, Bias: 0.2586838901042938\n",
      "Epoch 86--\n",
      " Loss:5.507646083831787, Weight: 4.05809211730957, Bias: 0.2597621977329254\n",
      "Epoch 87--\n",
      " Loss:5.506481170654297, Weight: 4.0580596923828125, Bias: 0.26083996891975403\n",
      "Epoch 88--\n",
      " Loss:5.50532341003418, Weight: 4.058028697967529, Bias: 0.26191723346710205\n",
      "Epoch 89--\n",
      " Loss:5.504166126251221, Weight: 4.057995796203613, Bias: 0.2629939317703247\n",
      "Epoch 90--\n",
      " Loss:5.503004550933838, Weight: 4.057964324951172, Bias: 0.26407015323638916\n",
      "Epoch 91--\n",
      " Loss:5.5018463134765625, Weight: 4.057931900024414, Bias: 0.26514583826065063\n",
      "Epoch 92--\n",
      " Loss:5.500690937042236, Weight: 4.057900428771973, Bias: 0.2662210166454315\n",
      "Epoch 93--\n",
      " Loss:5.499529838562012, Weight: 4.057868003845215, Bias: 0.2672956585884094\n",
      "Epoch 94--\n",
      " Loss:5.498378276824951, Weight: 4.057837009429932, Bias: 0.26836979389190674\n",
      "Epoch 95--\n",
      " Loss:5.497227191925049, Weight: 4.057804107666016, Bias: 0.2694433629512787\n",
      "Epoch 96--\n",
      " Loss:5.496078014373779, Weight: 4.057773113250732, Bias: 0.2705164849758148\n",
      "Epoch 97--\n",
      " Loss:5.4949212074279785, Weight: 4.057740211486816, Bias: 0.2715890109539032\n",
      "Epoch 98--\n",
      " Loss:5.493772983551025, Weight: 4.057709217071533, Bias: 0.27266108989715576\n",
      "Epoch 99--\n",
      " Loss:5.492621898651123, Weight: 4.057676792144775, Bias: 0.27373260259628296\n",
      "Epoch 100--\n",
      " Loss:5.491479396820068, Weight: 4.057645320892334, Bias: 0.27480360865592957\n"
     ]
    }
   ],
   "source": [
    "epochs = 100\n",
    "losses = []\n",
    "\n",
    "for i in range(1, epochs+1):\n",
    "    y_pred = model.forward(x)\n",
    "    loss = criterion(y_pred,y)\n",
    "    losses.append(loss.detach().numpy())\n",
    "    \n",
    "    print(f\"Epoch {i}--\\n Loss:{loss.item()}, Weight: {model.linear.weight.item()}, Bias: {model.linear.bias.item()}\")\n",
    "    \n",
    "    optimizer.zero_grad()    # prevent compounding due to backpropagation in next step\n",
    "    loss.backward()          # backpropagation step\n",
    "    optimizer.step()         # updating of weight and bias"
   ]
  },
  {
   "cell_type": "code",
   "execution_count": 224,
   "metadata": {},
   "outputs": [
    {
     "data": {
      "text/plain": [
       "Text(0.5, 0, 'Epochs')"
      ]
     },
     "execution_count": 224,
     "metadata": {},
     "output_type": "execute_result"
    },
    {
     "data": {
      "image/png": "[encoded data removed]",
      "text/plain": [
       "<Figure size 432x288 with 1 Axes>"
      ]
     },
     "metadata": {
      "needs_background": "light"
     },
     "output_type": "display_data"
    }
   ],
   "source": [
    "pyplot.plot(losses)\n",
    "pyplot.title('MSE Loss Against Number of Epochs')\n",
    "pyplot.ylabel('MSE Loss')\n",
    "pyplot.xlabel('Epochs')"
   ]
  },
  {
   "cell_type": "code",
   "execution_count": 230,
   "metadata": {},
   "outputs": [
    {
     "name": "stdout",
     "output_type": "stream",
     "text": [
      "Actual value: [402 602 802], predicted value: [406.03716367 608.91780847 811.79845327]\n"
     ]
    }
   ],
   "source": [
    "# Actual equation is 4x + 2\n",
    "\n",
    "x = np.array([100,150,200])\n",
    "current_weight = model.linear.weight.item() \n",
    "current_bias = model.linear.bias.item()\n",
    "\n",
    "actual_value = 4*x + 2\n",
    "predicted_value = current_weight*x + current_bias\n",
    "\n",
    "print(f\"Actual value: {actual_value}, predicted value: {predicted_value}\")"
   ]
  }
 ],
 "metadata": {
  "kernelspec": {
   "display_name": "Python 3",
   "language": "python",
   "name": "python3"
  },
  "language_info": {
   "codemirror_mode": {
    "name": "ipython",
    "version": 3
   },
   "file_extension": ".py",
   "mimetype": "text/x-python",
   "name": "python",
   "nbconvert_exporter": "python",
   "pygments_lexer": "ipython3",
   "version": "3.7.3"
  }
 },
 "nbformat": 4,
 "nbformat_minor": 2
}
